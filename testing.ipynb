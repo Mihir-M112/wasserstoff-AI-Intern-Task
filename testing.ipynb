{
 "cells": [
  {
   "cell_type": "code",
   "execution_count": null,
   "metadata": {},
   "outputs": [],
   "source": [
    "import nltk\n",
    "from nltk.tokenize import sent_tokenize\n",
    "\n",
    "# Ensure NLTK's tokenizer is ready\n",
    "nltk.download('punkt')\n",
    "\n",
    "def extract_summary_from_pdf(text):\n",
    "    try:\n",
    "        # Tokenize text into sentences\n",
    "        sentences = sent_tokenize(text)\n",
    "\n",
    "        # Choose the first few sentences (e.g., first 3)\n",
    "        summary = \" \".join(sentences[:3])\n",
    "        return summary if summary else \"Summary not available.\"\n",
    "    except Exception as e:\n",
    "        logging.error(f\"Error summarizing text: {e}\")\n",
    "        return \"Summary not available.\"\n"
   ]
  },
  {
   "cell_type": "code",
   "execution_count": null,
   "metadata": {},
   "outputs": [],
   "source": [
    "# Function to extract summary from the PDF content\n",
    "# def extract_summary_from_pdf(text):\n",
    "#     try:\n",
    "#         max_chunk_length = 1024  # HuggingFace models handle up to ~1024 tokens\n",
    "#         text_chunks = [text[i:i + max_chunk_length] for i in range(0, len(text), max_chunk_length)]\n",
    "\n",
    "#         summaries = []\n",
    "#         for chunk in text_chunks:\n",
    "#             # Set max_length proportional to the chunk length\n",
    "#             chunk_length = len(chunk.split())\n",
    "#             max_summary_length = min(150, chunk_length // 2)  # Ensure summary length is not greater than input\n",
    "\n",
    "#             summary = summarizer(chunk, max_length=max_summary_length, min_length=30, do_sample=False)[0]['summary_text']\n",
    "#             summaries.append(summary)\n",
    "\n",
    "#         return \" \".join(summaries)\n",
    "#     except Exception as e:\n",
    "#         logging.error(f\"Error summarizing text: {e}\")\n",
    "#         return \"Summary not available.\""
   ]
  },
  {
   "cell_type": "code",
   "execution_count": null,
   "metadata": {},
   "outputs": [],
   "source": [
    "def extract_summary_from_pdf(text, keywords):\n",
    "    try:\n",
    "        sentences = sent_tokenize(text)\n",
    "        summary_sentences = [sentence for sentence in sentences if any(keyword in sentence for keyword in keywords)]\n",
    "        \n",
    "        # If no sentences match keywords, fall back to first few sentences\n",
    "        if not summary_sentences:\n",
    "            summary_sentences = sentences[:3]\n",
    "        \n",
    "        summary_text = \" \".join(summary_sentences)\n",
    "        return summary_text if summary_text else \"Summary not available.\"\n",
    "    except Exception as e:\n",
    "        logging.error(f\"Error summarizing text: {e}\")\n",
    "        return \"Summary not available.\"\n"
   ]
  },
  {
   "cell_type": "code",
   "execution_count": null,
   "metadata": {},
   "outputs": [
    {
     "ename": "",
     "evalue": "",
     "output_type": "error",
     "traceback": [
      "\u001b[1;31mRunning cells with 'venv (Python 3.11.0)' requires the ipykernel package.\n",
      "\u001b[1;31mRun the following command to install 'ipykernel' into the Python environment. \n",
      "\u001b[1;31mCommand: '\"d:/MIHIR/Python Project/wasserstoff/AI Intern Task/venv/Scripts/python.exe\" -m pip install ipykernel -U --force-reinstall'"
     ]
    }
   ],
   "source": [
    "#surya\n",
    "def classify_and_process_pdf(pdf_file, doc_id):\n",
    "    metadata, num_pages = extract_pdf_metadata(pdf_file)\n",
    "    if not metadata:\n",
    "        return\n",
    "\n",
    "    if num_pages <= 10:\n",
    "        category = \"Short PDF\"\n",
    "    elif num_pages <= 30:\n",
    "        category = \"Medium PDF\"\n",
    "    else:\n",
    "        category = \"Long PDF\"\n",
    "\n",
    "    logging.info(f\"Processing {pdf_file} as {category} with {num_pages} pages.\")\n",
    "\n",
    "    # Check if document exists in MongoDB, if not, insert it\n",
    "    if collection.find_one({\"_id\": doc_id}) is None:\n",
    "        try:\n",
    "            collection.insert_one({\"_id\": doc_id, **metadata})\n",
    "            logging.info(f\"Document {doc_id} inserted into MongoDB.\")\n",
    "        except Exception as e:\n",
    "            logging.error(f\"Error inserting document {doc_id}: {e}\")\n",
    "            return\n",
    "\n",
    "    # Extract text from PDF\n",
    "    text = extract_text_from_pdf(pdf_file)\n",
    "\n",
    "    if not text:\n",
    "        logging.error(f\"No text extracted from {pdf_file}. Skipping summarization and keyword extraction.\")\n",
    "        return\n",
    "\n",
    "    # Perform summarization using NLP\n",
    "    summary = extract_summary_from_pdf(text)\n",
    "\n",
    "    # Perform keyword extraction using NER\n",
    "    keywords = extract_keywords_from_text(text)\n",
    "\n",
    "    # Update MongoDB with summary and keywords\n",
    "    update_mongo_with_summary(doc_id, summary, keywords)"
   ]
  },
  {
   "cell_type": "code",
   "execution_count": null,
   "metadata": {},
   "outputs": [],
   "source": []
  }
 ],
 "metadata": {
  "kernelspec": {
   "display_name": "venv",
   "language": "python",
   "name": "python3"
  },
  "language_info": {
   "name": "python",
   "version": "3.11.0"
  }
 },
 "nbformat": 4,
 "nbformat_minor": 2
}
